{
 "cells": [
  {
   "cell_type": "code",
   "execution_count": 2,
   "metadata": {},
   "outputs": [],
   "source": [
    "import pandas as pd\n",
    "from PIL import Image\n",
    "import torch\n",
    "import torchvision\n",
    "import torch.nn as nn\n",
    "from torchvision import transforms, models"
   ]
  },
  {
   "cell_type": "code",
   "execution_count": 3,
   "metadata": {},
   "outputs": [],
   "source": [
    "# Custom ResNet Model\n",
    "class CustomResNet(nn.Module):\n",
    "    def __init__(self, num_classes):\n",
    "        super(CustomResNet, self).__init__()\n",
    "        self.model = models.resnet101(weights=models.ResNet101_Weights.IMAGENET1K_V1)  # Use ImageNet pretrained weights\n",
    "        self.model.fc = nn.Sequential(\n",
    "            nn.Dropout(0.3),\n",
    "            nn.Linear(self.model.fc.in_features, num_classes),\n",
    "        )\n",
    "\n",
    "    def forward(self, x):  # x is input data\n",
    "        return self.model(x)\n"
   ]
  },
  {
   "cell_type": "code",
   "execution_count": 5,
   "metadata": {},
   "outputs": [
    {
     "name": "stdout",
     "output_type": "stream",
     "text": [
      "Number of classes: 590\n"
     ]
    },
    {
     "name": "stderr",
     "output_type": "stream",
     "text": [
      "C:\\Users\\Acer\\AppData\\Local\\Temp\\ipykernel_20876\\2199346617.py:33: FutureWarning: You are using `torch.load` with `weights_only=False` (the current default value), which uses the default pickle module implicitly. It is possible to construct malicious pickle data which will execute arbitrary code during unpickling (See https://github.com/pytorch/pytorch/blob/main/SECURITY.md#untrusted-models for more details). In a future release, the default value for `weights_only` will be flipped to `True`. This limits the functions that could be executed during unpickling. Arbitrary objects will no longer be allowed to be loaded via this mode unless they are explicitly allowlisted by the user via `torch.serialization.add_safe_globals`. We recommend you start setting `weights_only=True` for any use case where you don't have full control of the loaded file. Please open an issue on GitHub for any issues related to this experimental feature.\n",
      "  model.load_state_dict(torch.load(model_path, map_location=device))\n"
     ]
    },
    {
     "name": "stdout",
     "output_type": "stream",
     "text": [
      "Predicted class for the image: Atelectasis|Cardiomegaly|Consolidation|Effusion|Infiltration|Pneumonia\n"
     ]
    }
   ],
   "source": [
    "# Function to classify unseen images\n",
    "def classify_image(image_path, csv_path, model_path):\n",
    "    # Load the CSV to extract labels\n",
    "    try:\n",
    "        data = pd.read_csv(csv_path)\n",
    "        unique_labels = sorted(data['Label'].unique())  # Ensure labels are sorted for consistency\n",
    "        num_classes = len(unique_labels)\n",
    "        print(f\"Number of classes: {num_classes}\")\n",
    "    except Exception as e:\n",
    "        print(f\"Error loading CSV file: {e}\")\n",
    "        \n",
    "    # Load the image\n",
    "    try:\n",
    "        img = Image.open(image_path).convert(\"RGB\")  # Ensure the image is in RGB format\n",
    "    except Exception as e:\n",
    "        print(f\"Error loading image: {e}\")\n",
    "        return\n",
    "\n",
    "    # Apply the same transformations used during training\n",
    "    transform = transforms.Compose([\n",
    "        transforms.Resize((224, 224)),  # Resize to match model input\n",
    "        transforms.ToTensor(),\n",
    "        transforms.Normalize(mean=[0.485, 0.456, 0.406], std=[0.229, 0.224, 0.225]),\n",
    "    ])\n",
    "\n",
    "    img = transform(img).unsqueeze(0)  # Add batch dimension (1, C, H, W)\n",
    "\n",
    "    # Load the model\n",
    "    device = torch.device(\"cuda\" if torch.cuda.is_available() else \"cpu\")\n",
    "    model = CustomResNet(num_classes=num_classes).to(device)\n",
    "\n",
    "    try:\n",
    "        model.load_state_dict(torch.load(model_path, map_location=device))\n",
    "        model.eval()\n",
    "    except Exception as e:\n",
    "        print(f\"Error loading model: {e}\")\n",
    "        return\n",
    "\n",
    "    # Make prediction\n",
    "    with torch.no_grad():\n",
    "        img = img.to(device)\n",
    "        output = model(img)  # Get model output\n",
    "        pred = torch.argmax(output, dim=1).item()  # Get the predicted class\n",
    "\n",
    "    print(f\"Predicted class for the image: {unique_labels[pred]}\")\n",
    "\n",
    "# Usage\n",
    "csv_path = \"C:\\\\Users\\\\Acer\\\\Desktop\\\\Model\\\\Labels.csv\"  # Path to your CSV file\n",
    "image_path = \"cariomegaly.png\"  # Path to the image you want to classify\n",
    "model_path = \"best_model60000.pth\"  # Path to your saved model\n",
    "\n",
    "classify_image(image_path, csv_path, model_path)"
   ]
  },
  {
   "cell_type": "code",
   "execution_count": null,
   "metadata": {},
   "outputs": [],
   "source": []
  }
 ],
 "metadata": {
  "kernelspec": {
   "display_name": "env",
   "language": "python",
   "name": "python3"
  },
  "language_info": {
   "codemirror_mode": {
    "name": "ipython",
    "version": 3
   },
   "file_extension": ".py",
   "mimetype": "text/x-python",
   "name": "python",
   "nbconvert_exporter": "python",
   "pygments_lexer": "ipython3",
   "version": "3.12.2"
  }
 },
 "nbformat": 4,
 "nbformat_minor": 2
}
