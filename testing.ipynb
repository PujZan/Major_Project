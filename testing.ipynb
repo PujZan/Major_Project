{
 "cells": [
  {
   "cell_type": "code",
   "execution_count": 2,
   "metadata": {},
   "outputs": [],
   "source": [
    "import torch\n",
    "import torch.nn as nn\n",
    "import numpy as np\n",
    "import cv2\n",
    "from torchvision import transforms\n",
    "from PIL import Image\n",
    "import os\n",
    "from torchvision import models"
   ]
  },
  {
   "cell_type": "code",
   "execution_count": 3,
   "metadata": {},
   "outputs": [],
   "source": [
    "# Define a custom ResNet model with added dropout and a fully connected layer\n",
    "class CustomResNet(nn.Module):\n",
    "    def __init__(self, num_classes):\n",
    "        super(CustomResNet, self).__init__()\n",
    "        self.model = models.resnet101(weights=models.ResNet101_Weights.IMAGENET1K_V2)  # Load pre-trained ResNet101 model\n",
    "        self.model.fc = nn.Sequential(\n",
    "            nn.Dropout(0.3),\n",
    "            nn.Linear(self.model.fc.in_features, num_classes),\n",
    "        )\n",
    "\n",
    "    def forward(self, x):\n",
    "        return self.model(x)"
   ]
  },
  {
   "cell_type": "code",
   "execution_count": 4,
   "metadata": {},
   "outputs": [],
   "source": [
    "# Function to load the model weights\n",
    "def load_model(model_path, num_classes):\n",
    "    model = CustomResNet(num_classes)\n",
    "    model.load_state_dict(torch.load(model_path, weights_only=True))\n",
    "    model.eval()  # Set the model to evaluation mode\n",
    "    return model"
   ]
  },
  {
   "cell_type": "code",
   "execution_count": 11,
   "metadata": {},
   "outputs": [
    {
     "name": "stdout",
     "output_type": "stream",
     "text": [
      "Image: C:\\Users\\Acer\\Desktop\\Model\\consolidation.jpg\n",
      "Predicted Class: Infiltration\n",
      "Confidence: 89.06%\n"
     ]
    }
   ],
   "source": [
    "# Function to preprocess the image\n",
    "def preprocess_image(img_path, target_size):\n",
    "    img = Image.open(img_path).convert('RGB')  # Convert to RGB\n",
    "    transform = transforms.Compose([\n",
    "        transforms.Resize(target_size),\n",
    "        transforms.ToTensor(),\n",
    "        transforms.Normalize(mean=[0.485, 0.456, 0.406], std=[0.229, 0.224, 0.225]),\n",
    "    ])\n",
    "    img_tensor = transform(img)\n",
    "    img_tensor = img_tensor.unsqueeze(0)  # Add batch dimension\n",
    "    return img_tensor\n",
    "\n",
    "# Function to make predictions\n",
    "def predict_image(model, img_tensor, class_names):\n",
    "    with torch.no_grad():\n",
    "        outputs = model(img_tensor)\n",
    "        _, predicted_class = torch.max(outputs, 1)\n",
    "        confidence = torch.nn.functional.softmax(outputs, dim=1)[0][predicted_class]\n",
    "    return class_names[predicted_class.item()], confidence.item()\n",
    "\n",
    "# Load your trained model\n",
    "model_path =\"C:\\\\Users\\\\Acer\\\\Desktop\\\\Model\\\\best_model1.pth\"\n",
    "model = load_model(model_path, num_classes=15)\n",
    "\n",
    "# Define class names (replace with your actual class names)\n",
    "class_names = ['Pneumonia','Atelectasis','Cardiomegaly', 'Consolidation','Edema','Effusion', 'Emphysema','Fibrosis','Infiltration','Mass','Nodule','Pleural_Thickening','Pneumothorax', 'Normal', 'Hernia']\n",
    "\n",
    "# Path to the single image\n",
    "img_path = \"C:\\\\Users\\\\Acer\\\\Desktop\\\\Model\\\\consolidation.jpg\"  # Replace with your image path\n",
    "\n",
    "# Preprocess the image\n",
    "img_tensor = preprocess_image(img_path, target_size=(224, 224))  # Adjust size as needed\n",
    "\n",
    "# Make a prediction\n",
    "predicted_class, confidence = predict_image(model, img_tensor, class_names)\n",
    "\n",
    "# Display the result\n",
    "print(f'Image: {img_path}')\n",
    "print(f'Predicted Class: {predicted_class}')\n",
    "print(f'Confidence: {confidence * 100:.2f}%')"
   ]
  },
  {
   "cell_type": "code",
   "execution_count": null,
   "metadata": {},
   "outputs": [],
   "source": []
  }
 ],
 "metadata": {
  "kernelspec": {
   "display_name": "env",
   "language": "python",
   "name": "python3"
  },
  "language_info": {
   "codemirror_mode": {
    "name": "ipython",
    "version": 3
   },
   "file_extension": ".py",
   "mimetype": "text/x-python",
   "name": "python",
   "nbconvert_exporter": "python",
   "pygments_lexer": "ipython3",
   "version": "3.12.2"
  }
 },
 "nbformat": 4,
 "nbformat_minor": 2
}
