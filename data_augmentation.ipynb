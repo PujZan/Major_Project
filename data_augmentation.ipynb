{
 "cells": [
  {
   "cell_type": "code",
   "execution_count": 14,
   "metadata": {},
   "outputs": [],
   "source": [
    "import os\n",
    "from torchvision import transforms\n",
    "from PIL import Image\n",
    "\n",
    "# Define transformations for data augmentation\n",
    "augmentations = transforms.Compose([\n",
    "    transforms.RandomHorizontalFlip(p=0.5),\n",
    "    transforms.RandomVerticalFlip(p=0.5),\n",
    "    transforms.RandomRotation(degrees=30),\n",
    "    transforms.ColorJitter(brightness=0.2, contrast=0.2, saturation=0.2, hue=0.1),\n",
    "    transforms.RandomResizedCrop(size=(224, 224), scale=(0.8, 1.0)),  # Adjust size as needed\n",
    "])\n",
    "\n",
    "# Directory paths\n",
    "source_dir = \"C:\\\\Users\\\\Acer\\\\Desktop\\\\Model\\\\SortedImages\\\\Pneumothorax\"\n",
    "target_dir = \"C:\\\\Users\\\\Acer\\\\Desktop\\\\Model\\\\new\\\\Pneumothorax\"\n",
    "os.makedirs(target_dir, exist_ok=True)\n",
    "\n",
    "# Process only valid image files\n",
    "valid_extensions = {'.jpg', '.jpeg', '.png', '.bmp'}\n",
    "\n",
    "# Apply augmentations and save new images\n",
    "for img_file in os.listdir(source_dir):\n",
    "    img_path = os.path.join(source_dir, img_file)\n",
    "    \n",
    "    # Check if the file is an image\n",
    "    if os.path.isfile(img_path) and os.path.splitext(img_file)[1].lower() in valid_extensions:\n",
    "        try:\n",
    "            img = Image.open(img_path).convert(\"RGB\")\n",
    "\n",
    "            # Generate 30 augmented images per original image\n",
    "            for i in range(3):\n",
    "                augmented_img = augmentations(img)\n",
    "                augmented_img.save(os.path.join(target_dir, f\"{os.path.splitext(img_file)[0]}_aug_{i}.jpg\"))\n",
    "\n",
    "        except Exception as e:\n",
    "            print(f\"Error processing file {img_file}: {e}\")\n",
    "    else:\n",
    "        print(f\"Skipping non-image file or directory: {img_file}\")\n"
   ]
  },
  {
   "cell_type": "code",
   "execution_count": null,
   "metadata": {},
   "outputs": [],
   "source": []
  }
 ],
 "metadata": {
  "kernelspec": {
   "display_name": "env",
   "language": "python",
   "name": "python3"
  },
  "language_info": {
   "codemirror_mode": {
    "name": "ipython",
    "version": 3
   },
   "file_extension": ".py",
   "mimetype": "text/x-python",
   "name": "python",
   "nbconvert_exporter": "python",
   "pygments_lexer": "ipython3",
   "version": "3.12.2"
  }
 },
 "nbformat": 4,
 "nbformat_minor": 2
}
