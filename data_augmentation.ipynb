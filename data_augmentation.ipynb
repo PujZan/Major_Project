{
 "cells": [
  {
   "cell_type": "code",
   "execution_count": null,
   "metadata": {},
   "outputs": [
    {
     "name": "stdout",
     "output_type": "stream",
     "text": [
      "Skipping non-image file or directory: Atelectasis\n",
      "Skipping non-image file or directory: Cardiomegaly\n",
      "Skipping non-image file or directory: Consolidation\n",
      "Skipping non-image file or directory: Edema\n",
      "Skipping non-image file or directory: Effusion\n",
      "Skipping non-image file or directory: Emphysema\n",
      "Skipping non-image file or directory: Fibrosis\n",
      "Skipping non-image file or directory: Healthy\n",
      "Skipping non-image file or directory: Hernia\n",
      "Skipping non-image file or directory: Infiltration\n",
      "Skipping non-image file or directory: Mass\n",
      "Skipping non-image file or directory: Nodule\n",
      "Skipping non-image file or directory: Pleural_Thickening\n",
      "Skipping non-image file or directory: Pneumonia\n",
      "Skipping non-image file or directory: Pneumothorax\n"
     ]
    }
   ],
   "source": [
    "import os\n",
    "from torchvision import transforms\n",
    "from PIL import Image\n",
    "\n",
    "# Define appropriate augmentations for medical images\n",
    "augmentations = transforms.Compose([\n",
    "    transforms.RandomHorizontalFlip(p=0.5),  # Only if left/right is not crucial\n",
    "    transforms.RandomAffine(degrees=15, translate=(0.05, 0.05), scale=(0.95, 1.05)),  # More controlled warping\n",
    "    transforms.GaussianBlur(kernel_size=3, sigma=(0.1, 0.5)),  # Mild noise variation\n",
    "])\n",
    "\n",
    "# Directory paths\n",
    "source_dir = \"C:\\\\Users\\\\Acer\\\\Desktop\\\\Model\\\\new\\\\Atelectasis\"\n",
    "target_dir = \"C:\\\\Users\\\\Acer\\\\Desktop\\\\Model\\\\Dataset\"\n",
    "os.makedirs(target_dir, exist_ok=True)\n",
    "\n",
    "# Process only valid image files\n",
    "valid_extensions = {'.jpg', '.jpeg', '.png', '.bmp'}\n",
    "\n",
    "# Apply augmentations and save new images\n",
    "for img_file in os.listdir(source_dir):\n",
    "    img_path = os.path.join(source_dir, img_file)\n",
    "    \n",
    "    if os.path.isfile(img_path) and os.path.splitext(img_file)[1].lower() in valid_extensions:\n",
    "        try:\n",
    "            img = Image.open(img_path).convert(\"RGB\")\n",
    "\n",
    "            # Generate 5 augmented images per original image\n",
    "            for i in range(5):\n",
    "                augmented_img = augmentations(img)\n",
    "                augmented_img.save(os.path.join(target_dir, f\"{os.path.splitext(img_file)[0]}_aug_{i}.jpg\"))\n",
    "\n",
    "        except Exception as e:\n",
    "            print(f\"Error processing file {img_file}: {e}\")\n",
    "    else:\n",
    "        print(f\"Skipping non-image file or directory: {img_file}\")\n"
   ]
  },
  {
   "cell_type": "code",
   "execution_count": null,
   "metadata": {},
   "outputs": [],
   "source": []
  }
 ],
 "metadata": {
  "kernelspec": {
   "display_name": "env",
   "language": "python",
   "name": "python3"
  },
  "language_info": {
   "codemirror_mode": {
    "name": "ipython",
    "version": 3
   },
   "file_extension": ".py",
   "mimetype": "text/x-python",
   "name": "python",
   "nbconvert_exporter": "python",
   "pygments_lexer": "ipython3",
   "version": "3.12.2"
  }
 },
 "nbformat": 4,
 "nbformat_minor": 2
}
